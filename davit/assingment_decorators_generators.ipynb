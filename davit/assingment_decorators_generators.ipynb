{
 "cells": [
  {
   "cell_type": "markdown",
   "metadata": {},
   "source": [
    "In this assignment, you'll be working with functions, generators, and decorators."
   ]
  },
  {
   "cell_type": "markdown",
   "metadata": {},
   "source": [
    "## Instructions"
   ]
  },
  {
   "cell_type": "markdown",
   "metadata": {},
   "source": [
    "- Inside the solutions folder (`programming3-class/assignment_functions/solutions/`), create a folder with your name lowercase (for e.g., if your name is Anier, then your folder would be named `anier`).\n",
    "- Copy the given notebook inside the corresponding folder (in my case, I would have to copy it to `programming3-class/assignment_functions/solutions/anier/`) and solve the tasks.\n",
    "- Each of the tasks contains a line saying `raise NotImplementedError`. This is there in purpose. Once you've implemented a task, remove that line on that task.\n",
    "- Once you're done, make a PR with your commits."
   ]
  },
  {
   "cell_type": "markdown",
   "metadata": {},
   "source": [
    "## Task 1"
   ]
  },
  {
   "cell_type": "markdown",
   "metadata": {},
   "source": [
    "Write a function with documentation in a docstring (no need for a complicated documentation, just something very simple describing the function).\n",
    "- The function should contain all types of arguments (positional, positional with defaults, arbitrary args, keyword args, arbitrary keyword args)."
   ]
  },
  {
   "cell_type": "code",
   "execution_count": 3,
   "metadata": {},
   "outputs": [
    {
     "name": "stdout",
     "output_type": "stream",
     "text": [
      "(1, 2, 'default', (), 'kw1', 'kw_default', {})\n"
     ]
    }
   ],
   "source": [
    "def my_function(pos1, pos2, pos_with_default='default', *args, kw1, kw2='kw_default', **kwargs):\n",
    "    \"\"\"    \n",
    "    :pos1: A mandatory positional argument.\n",
    "    :pos2: Another mandatory positional argument.\n",
    "    :pos_with_default: A positional argument with a default value.\n",
    "    :args: A list of variable-length positional arguments.\n",
    "    :kw1: A mandatory keyword argument.\n",
    "    :kw2: A keyword argument with a default value.\n",
    "    :kwargs: A dictionary of variable-length keyword arguments.\n",
    "    \"\"\"\n",
    "    return pos1, pos2, pos_with_default, args, kw1, kw2, kwargs\n",
    "\n",
    "print(my_function(1, 2, kw1='kw1'))"
   ]
  },
  {
   "cell_type": "markdown",
   "metadata": {},
   "source": [
    "## Task 2"
   ]
  },
  {
   "cell_type": "markdown",
   "metadata": {},
   "source": [
    "A number is prime if it has 2 divisors exactly.\n",
    "\n",
    "The first few primes are: 2, 3, 5, 7, 11, ...\n",
    "\n",
    "\n",
    "\n",
    "Make a function that checks if a number is prime or not."
   ]
  },
  {
   "cell_type": "code",
   "execution_count": 2,
   "metadata": {},
   "outputs": [
    {
     "data": {
      "text/plain": [
       "True"
      ]
     },
     "execution_count": 2,
     "metadata": {},
     "output_type": "execute_result"
    }
   ],
   "source": [
    "def is_prime(n: int) -> bool:\n",
    "    \"\"\"\n",
    "    Checks if n is prime or not\n",
    "    \"\"\"\n",
    "    if n <= 1:\n",
    "        return False\n",
    "    elif n <= 3:\n",
    "        return True\n",
    "    elif n % 2 == 0 or n % 3 == 0:\n",
    "        return False\n",
    "    i = 5\n",
    "    while i * i <= n:\n",
    "        if n % i == 0 or n % (i + 2) == 0:\n",
    "            return False\n",
    "        i += 6\n",
    "    return True\n",
    "is_prime(5)"
   ]
  },
  {
   "cell_type": "markdown",
   "metadata": {},
   "source": [
    "\n",
    "## Task 3"
   ]
  },
  {
   "cell_type": "markdown",
   "metadata": {},
   "source": [
    "Implement the following function according to the docstring provided.\n",
    "\n",
    "Read https://docs.python.org/3.11/library/inspect.html in order to see how to get each requested information."
   ]
  },
  {
   "cell_type": "code",
   "execution_count": 5,
   "metadata": {},
   "outputs": [
    {
     "name": "stdout",
     "output_type": "stream",
     "text": [
      "Function name: example_function\n",
      "a\n",
      "POSITIONAL_OR_KEYWORD\n",
      "\n",
      "b\n",
      "POSITIONAL_OR_KEYWORD\n",
      "10\n",
      "\n",
      "c\n",
      "KEYWORD_ONLY\n",
      "<class 'int'>\n",
      "\n"
     ]
    }
   ],
   "source": [
    "import inspect\n",
    "\n",
    "def inspect_function(func):\n",
    "    \"\"\"\n",
    "    Takes another function as an argument (but not built-in) \n",
    "    and print the following data: \n",
    "    the name of the analyzed function, \n",
    "    the name of all the arguments it takes \n",
    "    and their types (positional, keyword, etc.)\n",
    "    \"\"\"\n",
    "    print(\"Function name:\", func.__name__)\n",
    "\n",
    "    signature = inspect.signature(func)\n",
    "\n",
    "    for parameter in signature.parameters.values():\n",
    "        print(parameter.name)\n",
    "        print(parameter.kind)\n",
    "        if parameter.default != inspect.Parameter.empty:\n",
    "            print(parameter.default)\n",
    "        if parameter.annotation != inspect.Parameter.empty:\n",
    "            print(parameter.annotation)\n",
    "        print()  \n",
    "\n",
    "def example_function(a, b=10, *, c: int):\n",
    "    pass\n",
    "\n",
    "inspect_function(example_function)"
   ]
  },
  {
   "cell_type": "markdown",
   "metadata": {},
   "source": [
    "## Task 4"
   ]
  },
  {
   "cell_type": "markdown",
   "metadata": {},
   "source": [
    "The following function isn't working properly. \n",
    "Fix it so that it prints the current datetime with a message."
   ]
  },
  {
   "cell_type": "code",
   "execution_count": 6,
   "metadata": {},
   "outputs": [],
   "source": [
    "from datetime import datetime\n",
    "from time import sleep\n",
    " \n",
    "def my_time_now(msg):\n",
    "    dt = datetime.now()  \n",
    "    print(msg, dt)"
   ]
  },
  {
   "cell_type": "code",
   "execution_count": 7,
   "metadata": {},
   "outputs": [
    {
     "name": "stdout",
     "output_type": "stream",
     "text": [
      "The time is now:  2024-02-12 00:23:52.699108\n",
      "The time is now:  2024-02-12 00:23:53.702584\n",
      "The time is now:  2024-02-12 00:23:54.705927\n"
     ]
    }
   ],
   "source": [
    "# simple tests :)\n",
    "my_time_now('The time is now: ')\n",
    "sleep(1)\n",
    "my_time_now('The time is now: ')\n",
    "sleep(1)\n",
    "my_time_now('The time is now: ')"
   ]
  },
  {
   "cell_type": "markdown",
   "metadata": {},
   "source": [
    "## Task 5"
   ]
  },
  {
   "cell_type": "markdown",
   "metadata": {},
   "source": [
    "Make a function that returns at most `max_count` values of a given generator."
   ]
  },
  {
   "cell_type": "code",
   "execution_count": 11,
   "metadata": {},
   "outputs": [],
   "source": [
    "def limit(input_generator, max_count):\n",
    "    \"\"\"\n",
    "    Generator that returns not more than max_count values of the input_generator.\n",
    "    \"\"\"\n",
    "    count = 0\n",
    "    for item in input_generator:\n",
    "        if count < max_count:\n",
    "            yield item\n",
    "            count += 1\n",
    "        else:\n",
    "            break"
   ]
  },
  {
   "cell_type": "markdown",
   "metadata": {},
   "source": [
    "## Task 6"
   ]
  },
  {
   "cell_type": "markdown",
   "metadata": {},
   "source": [
    "Write a generator for an infinite sequence of numbers from the Pascal's triangle. The sequence look like this: `1 1 1 1 2 1 1 3 3 1 1 4 6 4 1 1 5 10 10 5 1 1 6 15 20 15 6 1 1 7 21 35 35 21 7 1 1 8 28 56 70 56 28 8 1 1 9 36 84 126 126 84 36 9 1 ... '\n",
    "\n",
    "Test it with a generator from the previous task"
   ]
  },
  {
   "cell_type": "code",
   "execution_count": 12,
   "metadata": {},
   "outputs": [
    {
     "name": "stdout",
     "output_type": "stream",
     "text": [
      "1 1 1 1 2 1 1 3 3 1 "
     ]
    }
   ],
   "source": [
    "def pascals_triangle():\n",
    "    row = [1]\n",
    "    while True:\n",
    "        for num in row:\n",
    "            yield num\n",
    "        # Calculate the next row\n",
    "        row = [x + y for x, y in zip([0] + row, row + [0])]\n",
    "        \n",
    "pascal_gen = pascals_triangle()\n",
    "limited_pascal = limit(pascal_gen, 10) \n",
    "for number in limited_pascal:\n",
    "    print(number, end=' ')\n",
    "\n"
   ]
  },
  {
   "cell_type": "markdown",
   "metadata": {},
   "source": [
    "## Task 7"
   ]
  },
  {
   "cell_type": "markdown",
   "metadata": {},
   "source": [
    "Write a `merge_sorter` generator that merges sorted sequences of integers.\n",
    "\n",
    "The generator takes an arbitrary number of arguments. The argument can be any iterable, including another generator. It is guaranteed that each argument is a sequence of integers, sorted in non-decreasing order."
   ]
  },
  {
   "cell_type": "code",
   "execution_count": 8,
   "metadata": {},
   "outputs": [
    {
     "name": "stdout",
     "output_type": "stream",
     "text": [
      "[0, 1, 2, 3, 4, 5, 6, 7, 8, 9, 10]\n"
     ]
    }
   ],
   "source": [
    "def merge_sorter(*args):\n",
    "    iterators = [iter(seq) for seq in args]\n",
    "    \n",
    "    current_values = [next(iterator, None) for iterator in iterators]\n",
    "    \n",
    "    while any(value is not None for value in current_values):\n",
    "        min_value = min(value for value in current_values if value is not None)\n",
    "        \n",
    "        yield min_value\n",
    "        \n",
    "        index = current_values.index(min_value)\n",
    "        current_values[index] = next(iterators[index], None)\n",
    "\n",
    "sequence1 = [1, 3, 5, 7]\n",
    "sequence2 = [2, 4, 6, 8]\n",
    "sequence3 = [0, 9, 10]\n",
    "merged_sequence = merge_sorter(sequence1, sequence2, sequence3)\n",
    "\n",
    "print(list(merged_sequence))  \n"
   ]
  },
  {
   "cell_type": "markdown",
   "metadata": {},
   "source": [
    "## Task 8"
   ]
  },
  {
   "cell_type": "markdown",
   "metadata": {},
   "source": [
    "Write the decorator proﬁler, which, when calling a function, will store in its attributes (not to be confused with arguments) the time of its execution (in seconds, it can be fractional) and the number of recursive calls that occurred during execution. Name the attributes `last_time_taken` and `calls`. It is forbidden to use global variables. The decorator must behave in a decent manner, that is, it must not overwrite the function's documentation.\n",
    "\n",
    "For tests write [Ackemann function](https://en.wikipedia.org/wiki/Ackermann_function)."
   ]
  },
  {
   "cell_type": "code",
   "execution_count": 10,
   "metadata": {},
   "outputs": [
    {
     "name": "stdout",
     "output_type": "stream",
     "text": [
      "125\n",
      "time: 0.01887822151184082\n",
      "calls: 1\n"
     ]
    }
   ],
   "source": [
    "import time\n",
    "\n",
    "def profiler(func):\n",
    "    def wrapper(*args, **kwargs):\n",
    "        start_time = time.time()\n",
    "        wrapper.calls = 0\n",
    "        \n",
    "        def profiled_func(*args, **kwargs):\n",
    "            wrapper.calls += 1\n",
    "            return func(*args, **kwargs)\n",
    "        \n",
    "        result = profiled_func(*args, **kwargs)\n",
    "        end_time = time.time()\n",
    "        wrapper.last_time_taken = end_time - start_time\n",
    "        return result\n",
    "    \n",
    "    wrapper.__doc__ = func.__doc__\n",
    "    \n",
    "    return wrapper\n",
    "\n",
    "@profiler\n",
    "def ackermann(n: int, m: int) -> int:\n",
    "    if n == 0:\n",
    "        return m + 1\n",
    "    elif m == 0:\n",
    "        return ackermann(n - 1, 1)\n",
    "    else:\n",
    "        return ackermann(n - 1, ackermann(n, m - 1))\n",
    "\n",
    "print(ackermann(3, 4))\n",
    "print(\"time:\", ackermann.last_time_taken)\n",
    "print(\"calls:\", ackermann.calls)\n"
   ]
  },
  {
   "cell_type": "markdown",
   "metadata": {},
   "source": []
  }
 ],
 "metadata": {
  "kernelspec": {
   "display_name": "Python 3",
   "language": "python",
   "name": "python3"
  },
  "language_info": {
   "codemirror_mode": {
    "name": "ipython",
    "version": 3
   },
   "file_extension": ".py",
   "mimetype": "text/x-python",
   "name": "python",
   "nbconvert_exporter": "python",
   "pygments_lexer": "ipython3",
   "version": "3.11.4"
  }
 },
 "nbformat": 4,
 "nbformat_minor": 2
}
